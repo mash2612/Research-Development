{
 "cells": [
  {
   "cell_type": "markdown",
   "metadata": {
    "colab_type": "text",
    "id": "V8-yl-s-WKMG"
   },
   "source": [
    "# Object Detection Demo\n",
    "Welcome to the object detection inference walkthrough!  This notebook will walk you step by step through the process of using a pre-trained model to detect objects in an image. Make sure to follow the [installation instructions](https://github.com/tensorflow/models/blob/master/research/object_detection/g3doc/installation.md) before you start."
   ]
  },
  {
   "cell_type": "markdown",
   "metadata": {
    "colab_type": "text",
    "id": "kFSqkTCdWKMI"
   },
   "source": [
    "# Imports"
   ]
  },
  {
   "cell_type": "code",
   "execution_count": 1,
   "metadata": {
    "colab": {
     "autoexec": {
      "startup": false,
      "wait_interval": 0
     }
    },
    "colab_type": "code",
    "id": "hV4P5gyTWKMI"
   },
   "outputs": [
    {
     "name": "stdout",
     "output_type": "stream",
     "text": [
      "Populating the interactive namespace from numpy and matplotlib\n"
     ]
    }
   ],
   "source": [
    "import numpy as np\n",
    "import os\n",
    "import six.moves.urllib as urllib\n",
    "import sys\n",
    "import tarfile\n",
    "import tensorflow as tf\n",
    "import zipfile\n",
    "import time \n",
    "\n",
    "import sys \n",
    "sys.path.remove('/opt/ros/kinetic/lib/python2.7/dist-packages')\n",
    "import cv2 \n",
    "sys.path.append('/opt/ros/kinetic/lib/python2.7/dist-packages')\n",
    "\n",
    "from distutils.version import StrictVersion\n",
    "from collections import defaultdict\n",
    "from io import StringIO\n",
    "from matplotlib import pyplot as plt\n",
    "from PIL import Image\n",
    "\n",
    "# This is needed since the notebook is stored in the object_detection folder.\n",
    "sys.path.append(\"..\")\n",
    "from object_detection.utils import ops as utils_ops\n",
    "\n",
    "if StrictVersion(tf.__version__) < StrictVersion('1.12.0'):\n",
    "    raise ImportError('Please upgrade your TensorFlow installation to v1.12.*.')\n",
    "\n",
    "## added by me\n",
    "%matplotlib inline\n",
    "%pylab inline \n",
    "\n",
    "#Object detection imports\n",
    "from utils import label_map_util\n",
    "from utils import visualization_utils as vis_util"
   ]
  },
  {
   "cell_type": "markdown",
   "metadata": {
    "colab_type": "text",
    "id": "cfn_tRFOWKMO"
   },
   "source": [
    "# Model preparation "
   ]
  },
  {
   "cell_type": "markdown",
   "metadata": {
    "colab_type": "text",
    "id": "X_sEBLpVWKMQ"
   },
   "source": [
    "## Variables\n",
    "\n",
    "Any model exported using the `export_inference_graph.py` tool can be loaded here simply by changing `PATH_TO_FROZEN_GRAPH` to point to a new .pb file.  \n",
    "\n",
    "By default we use an \"SSD with Mobilenet\" model here. See the [detection model zoo](https://github.com/tensorflow/models/blob/master/research/object_detection/g3doc/detection_model_zoo.md) for a list of other models that can be run out-of-the-box with varying speeds and accuracies."
   ]
  },
  {
   "cell_type": "code",
   "execution_count": 2,
   "metadata": {
    "colab": {
     "autoexec": {
      "startup": false,
      "wait_interval": 0
     }
    },
    "colab_type": "code",
    "id": "VyPz_t8WWKMQ"
   },
   "outputs": [],
   "source": [
    "# What model to download.\n",
    "\n",
    "##change the model name and place the tar.gz file in the same directory \n",
    "##make sure that the graph.pb file is also in the same path \n",
    "\n",
    "MODEL_NAME = 'ssd_mobilenet_v1_coco_2018_01_28'\n",
    "MODEL_FILE = 'Iterations/' + MODEL_NAME + '.tar.gz'\n",
    "#DOWNLOAD_BASE = 'http://download.tensorflow.org/models/object_detection/'\n",
    "\n",
    "# Path to frozen detection graph. This is the actual model that is used for the object detection.\n",
    "PATH_TO_FROZEN_GRAPH = 'Iterations/' + MODEL_NAME + '/frozen_inference_graph.pb'\n",
    "\n",
    "# List of the strings that is used to add correct label for each box.\n",
    "PATH_TO_LABELS = os.path.join('data', 'mscoco_label_map.pbtxt')"
   ]
  },
  {
   "cell_type": "markdown",
   "metadata": {
    "colab_type": "text",
    "id": "7ai8pLZZWKMS"
   },
   "source": [
    "## Download Model"
   ]
  },
  {
   "cell_type": "code",
   "execution_count": 3,
   "metadata": {
    "colab": {
     "autoexec": {
      "startup": false,
      "wait_interval": 0
     }
    },
    "colab_type": "code",
    "id": "KILYnwR5WKMS"
   },
   "outputs": [
    {
     "name": "stdout",
     "output_type": "stream",
     "text": [
      "Iterations/ssd_mobilenet_v1_coco_2018_01_28.tar.gz\n"
     ]
    }
   ],
   "source": [
    "#opener = urllib.request.URLopener()\n",
    "#opener.retrieve(DOWNLOAD_BASE + MODEL_FILE, MODEL_FILE)\n",
    "tar_file = tarfile.open(MODEL_FILE)\n",
    "print(MODEL_FILE)\n",
    "for file in tar_file.getmembers():\n",
    "    file_name = os.path.basename(file.name)\n",
    "    if 'frozen_inference_graph.pb' in file_name:\n",
    "        #tar_file.extract(file, os.getcwd())\n",
    "        tar_file.extract(file, 'Iterations/')"
   ]
  },
  {
   "cell_type": "markdown",
   "metadata": {
    "colab_type": "text",
    "id": "YBcB9QHLWKMU"
   },
   "source": [
    "## Load a (frozen) Tensorflow model into memory."
   ]
  },
  {
   "cell_type": "code",
   "execution_count": 4,
   "metadata": {
    "colab": {
     "autoexec": {
      "startup": false,
      "wait_interval": 0
     }
    },
    "colab_type": "code",
    "id": "KezjCRVvWKMV"
   },
   "outputs": [],
   "source": [
    "detection_graph = tf.Graph()\n",
    "with detection_graph.as_default():\n",
    "    od_graph_def = tf.GraphDef()\n",
    "    with tf.gfile.GFile(PATH_TO_FROZEN_GRAPH, 'rb') as fid:\n",
    "        serialized_graph = fid.read()\n",
    "        od_graph_def.ParseFromString(serialized_graph)\n",
    "        tf.import_graph_def(od_graph_def, name='')"
   ]
  },
  {
   "cell_type": "markdown",
   "metadata": {
    "colab_type": "text",
    "id": "_1MVVTcLWKMW"
   },
   "source": [
    "## Loading label map\n",
    "Label maps map indices to category names, so that when our convolution network predicts `5`, we know that this corresponds to `airplane`.  Here we use internal utility functions, but anything that returns a dictionary mapping integers to appropriate string labels would be fine"
   ]
  },
  {
   "cell_type": "code",
   "execution_count": null,
   "metadata": {
    "colab": {
     "autoexec": {
      "startup": false,
      "wait_interval": 0
     }
    },
    "colab_type": "code",
    "id": "hDbpHkiWWKMX"
   },
   "outputs": [],
   "source": [
    "category_index = label_map_util.create_category_index_from_labelmap(PATH_TO_LABELS, use_display_name=True)"
   ]
  },
  {
   "cell_type": "markdown",
   "metadata": {
    "colab_type": "text",
    "id": "H0_1AGhrWKMc"
   },
   "source": [
    "# Detection"
   ]
  },
  {
   "cell_type": "code",
   "execution_count": 6,
   "metadata": {
    "colab": {
     "autoexec": {
      "startup": false,
      "wait_interval": 0
     }
    },
    "colab_type": "code",
    "id": "92BHxzcNWKMf"
   },
   "outputs": [],
   "source": [
    "def run_inference_for_single_image(image, graph, counter):\n",
    "    if 'detection_masks' in tensor_dict:\n",
    "        # The following processing is only for single image\n",
    "        detection_boxes = tf.squeeze(tensor_dict['detection_boxes'], [0])\n",
    "        detection_masks = tf.squeeze(tensor_dict['detection_masks'], [0])\n",
    "        # Reframe is required to translate mask from box coordinates to image coordinates and fit the image size.\n",
    "        real_num_detection = tf.cast(tensor_dict['num_detections'][0], tf.int32)\n",
    "        detection_boxes = tf.slice(detection_boxes, [0, 0], [real_num_detection, -1])\n",
    "        detection_masks = tf.slice(detection_masks, [0, 0, 0], [real_num_detection, -1, -1])\n",
    "        detection_masks_reframed = utils_ops.reframe_box_masks_to_image_masks(\n",
    "            detection_masks, detection_boxes, image.shape[0], image.shape[1])\n",
    "        detection_masks_reframed = tf.cast(\n",
    "            tf.greater(detection_masks_reframed, 0.5), tf.uint8)\n",
    "        # Follow the convention by adding back the batch dimension\n",
    "        tensor_dict['detection_masks'] = tf.expand_dims(\n",
    "            detection_masks_reframed, 0)\n",
    "    image_tensor = tf.get_default_graph().get_tensor_by_name('image_tensor:0')\n",
    "\n",
    "    # Run inference\n",
    "    output_dict = sess.run(tensor_dict,\n",
    "                            feed_dict={image_tensor: np.expand_dims(image, 0)})\n",
    "\n",
    "    # all outputs are float32 numpy arrays, so convert types as appropriate\n",
    "    output_dict['num_detections'] = int(output_dict['num_detections'][0])\n",
    "    \n",
    "    output_dict['detection_classes'] = output_dict[\n",
    "        'detection_classes'][0].astype(np.uint8)\n",
    "    output_dict['detection_boxes'] = output_dict['detection_boxes'][0]\n",
    "    output_dict['detection_scores'] = output_dict['detection_scores'][0]\n",
    "    \n",
    "    #Centroid of BB in non normalized format \n",
    "    #print((output_dict['detection_boxes'][0][1]*720+\n",
    "    #      output_dict['detection_boxes'][0][3]*720)/2,\n",
    "    #      (output_dict['detection_boxes'][0][0]*480+\n",
    "    #      output_dict['detection_boxes'][0][2]*480)/2)\n",
    "    \n",
    "    #BB coordinates in normalized format \n",
    "    #print(output_dict['detection_boxes'][0])\n",
    "    \n",
    "    #BB coordinates in non normalized format\n",
    "    #print('y min ',output_dict['detection_boxes'][0][0]*480)\n",
    "    #print('x min ',output_dict['detection_boxes'][0][1]*720)\n",
    "    #print('y max ',output_dict['detection_boxes'][0][2]*480)\n",
    "    #print('x max ',output_dict['detection_boxes'][0][3]*720)\n",
    "    #bounding box is of the form of ymin,xmin,ymax,xmax in tensorflow api\n",
    "    if 'detection_masks' in output_dict:\n",
    "        output_dict['detection_masks'] = output_dict['detection_masks'][0]\n",
    "    \n",
    "    #print(output_dict['num_detections'])\n",
    "    #print('class is: ',output_dict['detection_classes'][0])\n",
    "    \n",
    "    #print('score is: ',output_dict['detection_scores'][0])\n",
    "    \n",
    "    return output_dict"
   ]
  },
  {
   "cell_type": "code",
   "execution_count": 7,
   "metadata": {},
   "outputs": [],
   "source": [
    "#taken from stuttgart tracking website \n",
    "\n",
    "from pykalman import KalmanFilter\n",
    "\n",
    "Transition_Matrix = [[1,0,1,0],[0,1,0,1],[0,0,1,0],[0,0,0,1]]\n",
    "Observation_Matrix = [[1,0,0,0],[0,1,0,0]]\n",
    "initcovariance = 1.0e-3*np.eye(4)\n",
    "transistionCov = 1.0e-4*np.eye(4)\n",
    "observationCov = 1.0e-1*np.eye(2)\n",
    "\n",
    "\n",
    "def Kalman(x_mid_inference,y_mid_inference,counter,bounding_box_length,bounding_box_height): \n",
    "    \n",
    "    Measured = [np.asarray(x_mid_inference),np.asarray(y_mid_inference)]\n",
    "    Measured = np.asarray(Measured).T\n",
    "    #print('Measured: \\n',Measured)\n",
    "    #prediction matrix\n",
    "    MarkedMeasure = np.ma.masked_less(Measured,0)\n",
    "    #print('Marked measure: \\n',MarkedMeasure)\n",
    "    \n",
    "    #print('Transition Matrix is:')\n",
    "    xinit = MarkedMeasure[0,0]\n",
    "    yinit = MarkedMeasure[0,1]\n",
    "\n",
    "    vxinit = (MarkedMeasure[1,0] - MarkedMeasure[0,0])\n",
    "    vyinit = (MarkedMeasure[1,1] - MarkedMeasure[0,1])\n",
    "    #print(Transition_Matrix)\n",
    "    #print('vxinit: ',vxinit)\n",
    "    #print('vyinit: ',vyinit)\n",
    "\n",
    "    initstate = [xinit,yinit,vxinit,vyinit]\n",
    "    \n",
    "    #read https://pykalman.github.io/class_docs.html for more documentation \n",
    "    kf = KalmanFilter(transition_matrices = Transition_Matrix,\n",
    "            observation_matrices = Observation_Matrix,\n",
    "            initial_state_mean = initstate,\n",
    "            initial_state_covariance = initcovariance,\n",
    "            transition_covariance = transistionCov,\n",
    "            observation_covariance = observationCov)\n",
    "    (filtered_state_means, filtered_state_covariances) = kf.filter(MarkedMeasure)\n",
    "    \n",
    "    cap.set(1, counter)\n",
    "    ret, img = cap.read()\n",
    "    #if ret == True:\n",
    "    #    img = cv2.resize(img,(720,480),fx=0,fy=0, interpolation = cv2.INTER_CUBIC)\n",
    "    #img = cap.read()\n",
    "    #print('filtered state: ',filtered_state_means)\n",
    "    #print(filtered_state_means)\n",
    "    #print(filtered_state_covariances)\n",
    "    #x = np.floor(filtered_state_means[counter - 1][0]) # counter starts from 1 but the index of the list begins from 0 (-2 added to adjust for this)\n",
    "    #y = np.floor(filtered_state_means[counter - 1][1]) # only x min and ymin are considered because the bb coordinates are obtained after adding the width and height of detections\n",
    "    \n",
    "    \n",
    "    x = np.floor(filtered_state_means[-1][0])\n",
    "    y = np.floor(filtered_state_means[-1][1])\n",
    "    \n",
    "    bounding_box_x_min = int(x - bounding_box_length/2)\n",
    "    bounding_box_y_min = int(y - bounding_box_height/2)\n",
    "    bounding_box_x_max = int(x + bounding_box_length/2)\n",
    "    bounding_box_y_max = int(y + bounding_box_height/2)\n",
    "    #print('tracking',counter)\n",
    "    #print(bounding_box_x_min,bounding_box_y_min,bounding_box_x_max,bounding_box_y_max)\n",
    "   \n",
    "    \n",
    "    #green bounding box \n",
    "    cv2.rectangle(img, (bounding_box_x_min ,bounding_box_y_min), \n",
    "                   (bounding_box_x_max, bounding_box_y_max),\n",
    "                   (0,255,0), 2 )\n",
    "    \n",
    "    #cv2.imshow('object_detection',img)\n",
    "    #cv2.waitKey(500)\n",
    "    #cv2.destroyAllWindows()\n",
    "    \n",
    "    #counter += 1 \n",
    "    #print(x,y)\n",
    "    return x,y   \n"
   ]
  },
  {
   "cell_type": "code",
   "execution_count": 8,
   "metadata": {
    "colab": {
     "autoexec": {
      "startup": false,
      "wait_interval": 0
     }
    },
    "colab_type": "code",
    "id": "3a5wMHN8WKMh"
   },
   "outputs": [],
   "source": [
    "#provide path to the video file \n",
    "#CHANGE HERE \n",
    "cap = cv2.VideoCapture(filename)\n",
    "counter = 1 \n",
    "\n",
    "#CHANGE HERE\n",
    "#recording the detected bounding boxes \n",
    "#detect_track_time = open(filename + 'detect_track_time.txt', 'w')\n",
    "#sys.stdout = detect_track_time\n",
    "\n",
    "#detect_track_coordinates = open(filename + 'detect_track_coordinates.txt', 'w')\n",
    "#sys.stdout = detect_track_coordinates\n",
    "\n",
    "x_mid_inference = [] \n",
    "y_mid_inference = [] \n",
    "\n",
    "#fps_coupled = open(filename + 'fps_coupled.txt', 'w')\n",
    "#sys.stdout = fps_coupled\n",
    "\n",
    "try:\n",
    "    with detection_graph.as_default():\n",
    "        with tf.Session() as sess:\n",
    "                # Get handles to input and output tensors\n",
    "                ops = tf.get_default_graph().get_operations()\n",
    "                all_tensor_names = {output.name for op in ops for output in op.outputs}\n",
    "                tensor_dict = {}\n",
    "                for key in [\n",
    "                  'num_detections', 'detection_boxes', 'detection_scores',\n",
    "                  'detection_classes', 'detection_masks'\n",
    "                ]:\n",
    "                    tensor_name = key + ':0'\n",
    "                    if tensor_name in all_tensor_names:\n",
    "                        tensor_dict[key] = tf.get_default_graph().get_tensor_by_name(\n",
    "                      tensor_name)\n",
    "                \n",
    "                absolute_start = time.time()\n",
    "                while True:\n",
    "                    ret, image_np = cap.read()\n",
    "                    #if ret == True:\n",
    "                    #    image_np = cv2.resize(image_np,(720,480),fx=0,fy=0, interpolation = cv2.INTER_CUBIC)\n",
    "                    # Expand dimensions since the model expects images to have shape: [1, None, None, 3]\n",
    "                    # Actual detection.\n",
    "                    #sys.stdout = f \n",
    "                    #detecting on every frame till 5 and after that on every 10th frame \n",
    "                    if counter <= 5 or counter % 10 == 0 : \n",
    "                        \n",
    "                        #print('detection #:',counter)\n",
    "                        #detect_start_time = time.time()\n",
    "                        output_dict = run_inference_for_single_image(image_np, detection_graph,counter)\n",
    "                        # Visualization of the results of a detection.\n",
    "                        vis_util.visualize_boxes_and_labels_on_image_array(\n",
    "                            image_np,\n",
    "                            output_dict['detection_boxes'],\n",
    "                            output_dict['detection_classes'],\n",
    "                            output_dict['detection_scores'],\n",
    "                            category_index,\n",
    "                            instance_masks=output_dict.get('detection_masks'),\n",
    "                            use_normalized_coordinates=True,\n",
    "                            line_thickness=1)\n",
    "                        #detect_end_time = time.time()\n",
    "                        #print('detection',counter)\n",
    "                        #print('time for detection operation: ',detect_end_time-detect_start_time,' seconds')\n",
    "                        #BOUNDING BOX IS OF THE FORM OF FORM of ymin,xmin,ymax,xmax IN TENSORFLOW API\n",
    "                        \n",
    "                        # Check if all are written out or only detections\n",
    "                        # 87 for scissor\n",
    "                        # 47 for cup \n",
    "                        \n",
    "                        if output_dict['detection_classes'][0] == 87 or output_dict['detection_classes'][0] == 47:\n",
    "                            \n",
    "                            #coordinates of bounding box in non normalized format\n",
    "                            y_min = int(output_dict['detection_boxes'][0][0]*480)\n",
    "                            x_min = int(output_dict['detection_boxes'][0][1]*720)\n",
    "                            y_max = int(output_dict['detection_boxes'][0][2]*480)\n",
    "                            x_max = int(output_dict['detection_boxes'][0][3]*720)\n",
    "                            \n",
    "                            x_mid_inference.append((x_min + x_max)/2)\n",
    "                            y_mid_inference.append((y_min + y_max)/2)\n",
    "                            #detect_end_time = time.time()\n",
    "                            #print((detect_end_time-detect_start_time)*1000)\n",
    "                            \n",
    "                            #store the detected values\n",
    "                            #print(x_min,y_min,x_max,y_max)\n",
    "                            bounding_box_length = x_max-x_min\n",
    "                            bounding_box_height = y_max-y_min\n",
    "                            \n",
    "                        #for time recordings replace the '0,0,0,0' with a '0'\n",
    "                        #else: \n",
    "                            #print('0 0 0 0')\n",
    "                            \n",
    "                        \n",
    "                    else:        \n",
    "                        #occlusion values\n",
    "                        x_mid_inference.append(x_mid_inference[-1])\n",
    "                        y_mid_inference.append(y_mid_inference[-1])\n",
    "                        #kalman_start_time = time.time()\n",
    "                        x_mid, y_mid = Kalman(x_mid_inference,y_mid_inference,\n",
    "                                              counter,bounding_box_length,bounding_box_height) \n",
    "                        \n",
    "                        #print('kal',x_mid,y_mid)\n",
    "                        \n",
    "                        #if the tracker starts drifting replace the tracker values with detection values\n",
    "                        #tolerance of the tracker can be changed here \n",
    "                        #when tracker drifts it is replaced with the coordinates of last detection\n",
    "                        if (abs(x_mid_inference[-1] - x_mid > 5) or abs(y_mid_inference[-1] - y_mid) > 5):\n",
    "                            #print('tracker not correct')\n",
    "                            x_mid = x_mid_inference[-1]\n",
    "                            y_mid = y_mid_inference[-1]\n",
    "                            #kalman_end_time = time.time()\n",
    "                            #print((kalman_end_time-kalman_start_time)*1000)\n",
    "                            bounding_box_x_min = int(x_mid - bounding_box_length/2)\n",
    "                            bounding_box_y_min = int(y_mid - bounding_box_height/2)\n",
    "                            bounding_box_x_max = int(x_mid + bounding_box_length/2)\n",
    "                            bounding_box_y_max = int(y_mid + bounding_box_height/2)\n",
    "                            #print(bounding_box_x_min,\n",
    "                            #      bounding_box_y_min,\n",
    "                            #      bounding_box_x_max,\n",
    "                            #      bounding_box_y_max)\n",
    "                            cap.set(1, counter)\n",
    "                            ret, img = cap.read()\n",
    "                            #blue bounding box \n",
    "                            cv2.rectangle(img, (bounding_box_x_min ,bounding_box_y_min), \n",
    "                                               (bounding_box_x_max, bounding_box_y_max),\n",
    "                                               (255,0,0), 2 )\n",
    "                            #cv2.imshow('object_detection',img)\n",
    "                            \n",
    "                            #cv2.waitKey(1000)\n",
    "                            \n",
    "                        #the tracker is performing satisfactorily \n",
    "                        else:\n",
    "                            x_mid = x_mid\n",
    "                            y_mid = y_mid\n",
    "                            #kalman_end_time = time.time()\n",
    "                            #print((kalman_end_time-kalman_start_time)*1000)\n",
    "                            bounding_box_x_min = int(x_mid - bounding_box_length/2)\n",
    "                            bounding_box_y_min = int(y_mid - bounding_box_height/2)\n",
    "                            bounding_box_x_max = int(x_mid + bounding_box_length/2)\n",
    "                            bounding_box_y_max = int(y_mid + bounding_box_height/2)\n",
    "                            #print(bounding_box_x_min,\n",
    "                            #      bounding_box_y_min,\n",
    "                            #      bounding_box_x_max,\n",
    "                            #      bounding_box_y_max)\n",
    "                            \n",
    "                            #tracking_continuation_Kalman(x_mid,y_mid)\n",
    "                            #print('tracker correct')\n",
    "                    \n",
    "                    \n",
    "                    \n",
    "                    #cv2.imshow('object_detection_1', cv2.resize(image_np, (720, 480)))\n",
    "                    #cv2.imwrite(path + 'Test/'+str(counter)+'.jpg',image_np)\n",
    "                    counter += 1\n",
    "                    #100 for time measurements and 50 for iou measurements \n",
    "                    if counter > 100: \n",
    "                        absolute_end = time.time()\n",
    "                        cv2.destroyAllWindows()\n",
    "\n",
    "                        break\n",
    "                        \n",
    "                    \n",
    "                    if cv2.waitKey(1000) & 0xFF == ord('q'):\n",
    "                        cap.release()\n",
    "                        cv2.destroyAllWindows()\n",
    "                        break\n",
    "                \n",
    "                              \n",
    "except Exception as e:\n",
    "    print(e)\n",
    "    cap.release()\n",
    "\n",
    "print(absolute_end-absolute_start)\n",
    "print(100/(absolute_end-absolute_start))  \n"
   ]
  }
 ],
 "metadata": {
  "colab": {
   "default_view": {},
   "name": "object_detection_tutorial.ipynb?workspaceId=ronnyvotel:python_inference::citc",
   "provenance": [],
   "version": "0.3.2",
   "views": {}
  },
  "kernelspec": {
   "display_name": "Python 3",
   "language": "python",
   "name": "python3"
  },
  "language_info": {
   "codemirror_mode": {
    "name": "ipython",
    "version": 3
   },
   "file_extension": ".py",
   "mimetype": "text/x-python",
   "name": "python",
   "nbconvert_exporter": "python",
   "pygments_lexer": "ipython3",
   "version": "3.7.3"
  }
 },
 "nbformat": 4,
 "nbformat_minor": 1
}
